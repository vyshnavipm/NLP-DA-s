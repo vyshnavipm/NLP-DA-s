{
 "cells": [
  {
   "cell_type": "code",
   "execution_count": 1,
   "id": "f9f856b1",
   "metadata": {},
   "outputs": [
    {
     "name": "stderr",
     "output_type": "stream",
     "text": [
      "[nltk_data] Downloading package punkt to\n",
      "[nltk_data]     C:\\Users\\user\\AppData\\Roaming\\nltk_data...\n",
      "[nltk_data]   Package punkt is already up-to-date!\n",
      "[nltk_data] Downloading package averaged_perceptron_tagger to\n",
      "[nltk_data]     C:\\Users\\user\\AppData\\Roaming\\nltk_data...\n",
      "[nltk_data]   Package averaged_perceptron_tagger is already up-to-\n",
      "[nltk_data]       date!\n",
      "[nltk_data] Downloading package brown to\n",
      "[nltk_data]     C:\\Users\\user\\AppData\\Roaming\\nltk_data...\n",
      "[nltk_data]   Package brown is already up-to-date!\n",
      "[nltk_data] Downloading package wordnet to\n",
      "[nltk_data]     C:\\Users\\user\\AppData\\Roaming\\nltk_data...\n",
      "[nltk_data]   Package wordnet is already up-to-date!\n",
      "[nltk_data] Downloading package omw-1.4 to\n",
      "[nltk_data]     C:\\Users\\user\\AppData\\Roaming\\nltk_data...\n",
      "[nltk_data]   Package omw-1.4 is already up-to-date!\n",
      "[nltk_data] Downloading package stopwords to\n",
      "[nltk_data]     C:\\Users\\user\\AppData\\Roaming\\nltk_data...\n",
      "[nltk_data]   Package stopwords is already up-to-date!\n"
     ]
    }
   ],
   "source": [
    "# Installing and importing necessary libraries and packages\n",
    "import nltk\n",
    "nltk.download('punkt')\n",
    "nltk.download('averaged_perceptron_tagger')\n",
    "nltk.download('brown')\n",
    "nltk.download('wordnet')\n",
    "nltk.download('omw-1.4')\n",
    "nltk.download('stopwords')\n",
    "import pandas as pd"
   ]
  },
  {
   "cell_type": "code",
   "execution_count": 11,
   "id": "e8212dca",
   "metadata": {},
   "outputs": [
    {
     "data": {
      "text/plain": [
       "'VIT was established with the aim of providing quality higher education on par with international standards. It persistently seeks and adopts innovative methods to improve the quality of higher education on a consistent basis.The campus has a cosmopolitan atmosphere with students from all corners of the globe. Experienced and learned teachers are strongly encouraged to nurture the students. The global standards set at VIT in the field of teaching and research spur us on in our relentless pursuit of excellence. In fact, it has become a way of life for us. The highly motivated youngsters on the campus are a constant source of pride. Our Memoranda of Understanding with various international universities are our major strength. They provide for an exchange of students and faculty and encourage joint research projects for the mutual benefit of these universities. Many of our students, who pursue their research projects in foreign universities, bring high quality to their work and esteem to India and have done us proud. With steady steps, we continue our march forward. We look forward to meeting you here at VIT.'"
      ]
     },
     "execution_count": 11,
     "metadata": {},
     "output_type": "execute_result"
    }
   ],
   "source": [
    "text=\"VIT was established with the aim of providing quality higher education on par with international standards. It persistently seeks and adopts innovative methods to improve the quality of higher education on a consistent basis.The campus has a cosmopolitan atmosphere with students from all corners of the globe. Experienced and learned teachers are strongly encouraged to nurture the students. The global standards set at VIT in the field of teaching and research spur us on in our relentless pursuit of excellence. In fact, it has become a way of life for us. The highly motivated youngsters on the campus are a constant source of pride. Our Memoranda of Understanding with various international universities are our major strength. They provide for an exchange of students and faculty and encourage joint research projects for the mutual benefit of these universities. Many of our students, who pursue their research projects in foreign universities, bring high quality to their work and esteem to India and have done us proud. With steady steps, we continue our march forward. We look forward to meeting you here at VIT.\"\n",
    "text"
   ]
  },
  {
   "cell_type": "code",
   "execution_count": 12,
   "id": "fa3b6ab7",
   "metadata": {},
   "outputs": [
    {
     "name": "stdout",
     "output_type": "stream",
     "text": [
      "['VIT', 'was', 'established', 'with', 'the', 'aim', 'of', 'providing', 'quality', 'higher', 'education', 'on', 'par', 'with', 'international', 'standards', '.', 'It', 'persistently', 'seeks', 'and', 'adopts', 'innovative', 'methods', 'to', 'improve', 'the', 'quality', 'of', 'higher', 'education', 'on', 'a', 'consistent', 'basis.The', 'campus', 'has', 'a', 'cosmopolitan', 'atmosphere', 'with', 'students', 'from', 'all', 'corners', 'of', 'the', 'globe', '.', 'Experienced', 'and', 'learned', 'teachers', 'are', 'strongly', 'encouraged', 'to', 'nurture', 'the', 'students', '.', 'The', 'global', 'standards', 'set', 'at', 'VIT', 'in', 'the', 'field', 'of', 'teaching', 'and', 'research', 'spur', 'us', 'on', 'in', 'our', 'relentless', 'pursuit', 'of', 'excellence', '.', 'In', 'fact', ',', 'it', 'has', 'become', 'a', 'way', 'of', 'life', 'for', 'us', '.', 'The', 'highly', 'motivated', 'youngsters', 'on', 'the', 'campus', 'are', 'a', 'constant', 'source', 'of', 'pride', '.', 'Our', 'Memoranda', 'of', 'Understanding', 'with', 'various', 'international', 'universities', 'are', 'our', 'major', 'strength', '.', 'They', 'provide', 'for', 'an', 'exchange', 'of', 'students', 'and', 'faculty', 'and', 'encourage', 'joint', 'research', 'projects', 'for', 'the', 'mutual', 'benefit', 'of', 'these', 'universities', '.', 'Many', 'of', 'our', 'students', ',', 'who', 'pursue', 'their', 'research', 'projects', 'in', 'foreign', 'universities', ',', 'bring', 'high', 'quality', 'to', 'their', 'work', 'and', 'esteem', 'to', 'India', 'and', 'have', 'done', 'us', 'proud', '.', 'With', 'steady', 'steps', ',', 'we', 'continue', 'our', 'march', 'forward', '.', 'We', 'look', 'forward', 'to', 'meeting', 'you', 'here', 'at', 'VIT', '.']\n"
     ]
    }
   ],
   "source": [
    "# Word Segmentation (Word Tokenization)\n",
    "from nltk.tokenize import word_tokenize\n",
    "wordsList = word_tokenize(text)\n",
    "print(wordsList)"
   ]
  },
  {
   "cell_type": "code",
   "execution_count": 13,
   "id": "88ba5a1b",
   "metadata": {},
   "outputs": [
    {
     "data": {
      "text/plain": [
       "['VIT was established with the aim of providing quality higher education on par with international standards.',\n",
       " 'It persistently seeks and adopts innovative methods to improve the quality of higher education on a consistent basis.The campus has a cosmopolitan atmosphere with students from all corners of the globe.',\n",
       " 'Experienced and learned teachers are strongly encouraged to nurture the students.',\n",
       " 'The global standards set at VIT in the field of teaching and research spur us on in our relentless pursuit of excellence.',\n",
       " 'In fact, it has become a way of life for us.',\n",
       " 'The highly motivated youngsters on the campus are a constant source of pride.',\n",
       " 'Our Memoranda of Understanding with various international universities are our major strength.',\n",
       " 'They provide for an exchange of students and faculty and encourage joint research projects for the mutual benefit of these universities.',\n",
       " 'Many of our students, who pursue their research projects in foreign universities, bring high quality to their work and esteem to India and have done us proud.',\n",
       " 'With steady steps, we continue our march forward.',\n",
       " 'We look forward to meeting you here at VIT.']"
      ]
     },
     "execution_count": 13,
     "metadata": {},
     "output_type": "execute_result"
    }
   ],
   "source": [
    "# Sentence Segmentation where each sentence is seperated by a comma (,).\n",
    "sent_tokenizer = nltk.data.load('tokenizers/punkt/english.pickle')\n",
    "sents = sent_tokenizer.tokenize(text)\n",
    "sents"
   ]
  },
  {
   "cell_type": "code",
   "execution_count": 14,
   "id": "d193e8b4",
   "metadata": {},
   "outputs": [
    {
     "name": "stdout",
     "output_type": "stream",
     "text": [
      "['VIT was established with the aim of providing quality higher education on par with international standards.', 'It persistently seeks and adopts innovative methods to improve the quality of higher education on a consistent basis.The campus has a cosmopolitan atmosphere with students from all corners of the globe.', 'Experienced and learned teachers are strongly encouraged to nurture the students.', 'The global standards set at VIT in the field of teaching and research spur us on in our relentless pursuit of excellence.', 'In fact, it has become a way of life for us.', 'The highly motivated youngsters on the campus are a constant source of pride.', 'Our Memoranda of Understanding with various international universities are our major strength.', 'They provide for an exchange of students and faculty and encourage joint research projects for the mutual benefit of these universities.', 'Many of our students, who pursue their research projects in foreign universities, bring high quality to their work and esteem to India and have done us proud.', 'With steady steps, we continue our march forward.', 'We look forward to meeting you here at VIT.']\n"
     ]
    }
   ],
   "source": [
    "# METHOD 2 for Sentence Segmentation\n",
    "from nltk.tokenize import sent_tokenize\n",
    "print(sent_tokenize(text))"
   ]
  },
  {
   "cell_type": "code",
   "execution_count": 15,
   "id": "865cae8c",
   "metadata": {},
   "outputs": [
    {
     "name": "stdout",
     "output_type": "stream",
     "text": [
      "['vit', 'was', 'established', 'with', 'the', 'aim', 'of', 'providing', 'quality', 'higher', 'education', 'on', 'par', 'with', 'international', 'standards', 'it', 'persistently', 'seeks', 'and', 'adopts', 'innovative', 'methods', 'to', 'improve', 'the', 'quality', 'of', 'higher', 'education', 'on', 'a', 'consistent', 'basis', 'the', 'campus', 'has', 'a', 'cosmopolitan', 'atmosphere', 'with', 'students', 'from', 'all', 'corners', 'of', 'the', 'globe', 'experienced', 'and', 'learned', 'teachers', 'are', 'strongly', 'encouraged', 'to', 'nurture', 'the', 'students', 'the', 'global', 'standards', 'set', 'at', 'vit', 'in', 'the', 'field', 'of', 'teaching', 'and', 'research', 'spur', 'us', 'on', 'in', 'our', 'relentless', 'pursuit', 'of', 'excellence', 'in', 'fact', 'it', 'has', 'become', 'a', 'way', 'of', 'life', 'for', 'us', 'the', 'highly', 'motivated', 'youngsters', 'on', 'the', 'campus', 'are', 'a', 'constant', 'source', 'of', 'pride', 'our', 'memoranda', 'of', 'understanding', 'with', 'various', 'international', 'universities', 'are', 'our', 'major', 'strength', 'they', 'provide', 'for', 'an', 'exchange', 'of', 'students', 'and', 'faculty', 'and', 'encourage', 'joint', 'research', 'projects', 'for', 'the', 'mutual', 'benefit', 'of', 'these', 'universities', 'many', 'of', 'our', 'students', 'who', 'pursue', 'their', 'research', 'projects', 'in', 'foreign', 'universities', 'bring', 'high', 'quality', 'to', 'their', 'work', 'and', 'esteem', 'to', 'india', 'and', 'have', 'done', 'us', 'proud', 'with', 'steady', 'steps', 'we', 'continue', 'our', 'march', 'forward', 'we', 'look', 'forward', 'to', 'meeting', 'you', 'here', 'at', 'vit']\n"
     ]
    }
   ],
   "source": [
    "# We want our model to not get confused by seeing the same word with different cases like one starting with capital and one without and interpret both differently. \n",
    "# So we convert all words into the lower case to avoid redundancy in the token list\n",
    "import re\n",
    "text = re.sub(r\"[^a-zA-Z0-9]\", \" \", text.lower())\n",
    "words = text.split()\n",
    "print(words)"
   ]
  },
  {
   "cell_type": "code",
   "execution_count": 16,
   "id": "8d5ab1ca",
   "metadata": {},
   "outputs": [
    {
     "name": "stdout",
     "output_type": "stream",
     "text": [
      "['vit', 'established', 'aim', 'providing', 'quality', 'higher', 'education', 'par', 'international', 'standards', 'persistently', 'seeks', 'adopts', 'innovative', 'methods', 'improve', 'quality', 'higher', 'education', 'consistent', 'basis', 'campus', 'cosmopolitan', 'atmosphere', 'students', 'corners', 'globe', 'experienced', 'learned', 'teachers', 'strongly', 'encouraged', 'nurture', 'students', 'global', 'standards', 'set', 'vit', 'field', 'teaching', 'research', 'spur', 'us', 'relentless', 'pursuit', 'excellence', 'fact', 'become', 'way', 'life', 'us', 'highly', 'motivated', 'youngsters', 'campus', 'constant', 'source', 'pride', 'memoranda', 'understanding', 'various', 'international', 'universities', 'major', 'strength', 'provide', 'exchange', 'students', 'faculty', 'encourage', 'joint', 'research', 'projects', 'mutual', 'benefit', 'universities', 'many', 'students', 'pursue', 'research', 'projects', 'foreign', 'universities', 'bring', 'high', 'quality', 'work', 'esteem', 'india', 'done', 'us', 'proud', 'steady', 'steps', 'continue', 'march', 'forward', 'look', 'forward', 'meeting', 'vit']\n"
     ]
    }
   ],
   "source": [
    "# When we use the features from a text to model, we will encounter a lot of noise. \n",
    "# These are the stop words like the, he, her, etc… which don’t help us and, just be removed before processing for cleaner processing inside the model. \n",
    "# With NLTK we can see all the stop words available in the English language.\n",
    "\n",
    "from nltk.corpus import stopwords\n",
    "# Remove stop words\n",
    "words = [w for w in words if w not in stopwords.words(\"english\")]\n",
    "print(words)\n"
   ]
  },
  {
   "cell_type": "code",
   "execution_count": 17,
   "id": "8909defe",
   "metadata": {},
   "outputs": [
    {
     "name": "stdout",
     "output_type": "stream",
     "text": [
      "['vit', 'establish', 'aim', 'provid', 'qualiti', 'higher', 'educ', 'par', 'intern', 'standard', 'persist', 'seek', 'adopt', 'innov', 'method', 'improv', 'qualiti', 'higher', 'educ', 'consist', 'basi', 'campu', 'cosmopolitan', 'atmospher', 'student', 'corner', 'globe', 'experienc', 'learn', 'teacher', 'strongli', 'encourag', 'nurtur', 'student', 'global', 'standard', 'set', 'vit', 'field', 'teach', 'research', 'spur', 'us', 'relentless', 'pursuit', 'excel', 'fact', 'becom', 'way', 'life', 'us', 'highli', 'motiv', 'youngster', 'campu', 'constant', 'sourc', 'pride', 'memoranda', 'understand', 'variou', 'intern', 'univers', 'major', 'strength', 'provid', 'exchang', 'student', 'faculti', 'encourag', 'joint', 'research', 'project', 'mutual', 'benefit', 'univers', 'mani', 'student', 'pursu', 'research', 'project', 'foreign', 'univers', 'bring', 'high', 'qualiti', 'work', 'esteem', 'india', 'done', 'us', 'proud', 'steadi', 'step', 'continu', 'march', 'forward', 'look', 'forward', 'meet', 'vit']\n"
     ]
    }
   ],
   "source": [
    "# In our text we may find many words like playing, played, playfully, etc… which have a root word, play all of these convey the same meaning. \n",
    "# So we can just extract the root word and remove the rest. \n",
    "# Here the root word formed is called ‘stem’ and it is not necessarily that stem needs to exist and have a meaning. \n",
    "# Just by committing the suffix and prefix, we generate the stems.\n",
    "\n",
    "# NLTK provides us with PorterStemmer LancasterStemmer and SnowballStemmer packages.\n",
    "\n",
    "from nltk.stem.porter import PorterStemmer\n",
    "# Reduce words to their stems\n",
    "stemmed = [PorterStemmer().stem(w) for w in words]\n",
    "print(stemmed)"
   ]
  },
  {
   "cell_type": "code",
   "execution_count": 18,
   "id": "21ab7c68",
   "metadata": {},
   "outputs": [
    {
     "name": "stdout",
     "output_type": "stream",
     "text": [
      "['vit', 'established', 'aim', 'providing', 'quality', 'higher', 'education', 'par', 'international', 'standard', 'persistently', 'seek', 'adopts', 'innovative', 'method', 'improve', 'quality', 'higher', 'education', 'consistent', 'basis', 'campus', 'cosmopolitan', 'atmosphere', 'student', 'corner', 'globe', 'experienced', 'learned', 'teacher', 'strongly', 'encouraged', 'nurture', 'student', 'global', 'standard', 'set', 'vit', 'field', 'teaching', 'research', 'spur', 'u', 'relentless', 'pursuit', 'excellence', 'fact', 'become', 'way', 'life', 'u', 'highly', 'motivated', 'youngster', 'campus', 'constant', 'source', 'pride', 'memoranda', 'understanding', 'various', 'international', 'university', 'major', 'strength', 'provide', 'exchange', 'student', 'faculty', 'encourage', 'joint', 'research', 'project', 'mutual', 'benefit', 'university', 'many', 'student', 'pursue', 'research', 'project', 'foreign', 'university', 'bring', 'high', 'quality', 'work', 'esteem', 'india', 'done', 'u', 'proud', 'steady', 'step', 'continue', 'march', 'forward', 'look', 'forward', 'meeting', 'vit']\n"
     ]
    }
   ],
   "source": [
    "# We want to extract the base form of the word here. \n",
    "# The word extracted here is called Lemma and it is available in the dictionary. \n",
    "# We have the WordNet corpus and the lemma generated will be available in this corpus. \n",
    "# NLTK provides us with the WordNet Lemmatizer that makes use of the WordNet Database to lookup lemmas of words.\n",
    "\n",
    "from nltk.stem.wordnet import WordNetLemmatizer\n",
    "# Reduce words to their root form\n",
    "lemmed = [WordNetLemmatizer().lemmatize(w) for w in words]\n",
    "print(lemmed)\n",
    "\n",
    "## NOTE: Stemming is much faster than lemmatization as it doesn’t need to lookup in the dictionary and just follows the algorithm to generate the root words."
   ]
  },
  {
   "cell_type": "code",
   "execution_count": 19,
   "id": "029f47ca",
   "metadata": {},
   "outputs": [
    {
     "name": "stdout",
     "output_type": "stream",
     "text": [
      "[('VIT', 'NNP'), ('established', 'VBD'), ('aim', 'RP'), ('providing', 'VBG'), ('quality', 'NN'), ('higher', 'JJR'), ('education', 'NN'), ('par', 'IN'), ('international', 'JJ'), ('standards', 'NNS'), ('.', '.'), ('It', 'PRP'), ('persistently', 'RB'), ('seeks', 'VBZ'), ('adopts', 'NNS'), ('innovative', 'JJ'), ('methods', 'NNS'), ('improve', 'VBP'), ('quality', 'NN'), ('higher', 'JJR'), ('education', 'NN'), ('consistent', 'JJ'), ('basis.The', 'NN'), ('campus', 'NN'), ('cosmopolitan', 'NN'), ('atmosphere', 'JJ'), ('students', 'NNS'), ('corners', 'NNS'), ('globe', 'VBP'), ('.', '.'), ('Experienced', 'NNP'), ('learned', 'VBD'), ('teachers', 'NNS'), ('strongly', 'RB'), ('encouraged', 'VBD'), ('nurture', 'JJ'), ('students', 'NNS'), ('.', '.'), ('The', 'DT'), ('global', 'JJ'), ('standards', 'NNS'), ('set', 'VBN'), ('VIT', 'NNP'), ('field', 'NN'), ('teaching', 'VBG'), ('research', 'NN'), ('spur', 'VB'), ('us', 'PRP'), ('relentless', 'VB'), ('pursuit', 'NN'), ('excellence', 'NN'), ('.', '.'), ('In', 'IN'), ('fact', 'NN'), (',', ','), ('become', 'VB'), ('way', 'NN'), ('life', 'NN'), ('us', 'PRP'), ('.', '.'), ('The', 'DT'), ('highly', 'RB'), ('motivated', 'JJ'), ('youngsters', 'NNS'), ('campus', 'VBP'), ('constant', 'JJ'), ('source', 'NN'), ('pride', 'NN'), ('.', '.'), ('Our', 'PRP$'), ('Memoranda', 'NNP'), ('Understanding', 'NNP'), ('various', 'JJ'), ('international', 'JJ'), ('universities', 'NNS'), ('major', 'JJ'), ('strength', 'NN'), ('.', '.'), ('They', 'PRP'), ('provide', 'VBP'), ('exchange', 'NN'), ('students', 'NNS'), ('faculty', 'VBP'), ('encourage', 'VB'), ('joint', 'JJ'), ('research', 'NN'), ('projects', 'NNS'), ('mutual', 'JJ'), ('benefit', 'NN'), ('universities', 'NNS'), ('.', '.'), ('Many', 'JJ'), ('students', 'NNS'), (',', ','), ('pursue', 'VB'), ('research', 'NN'), ('projects', 'NNS'), ('foreign', 'JJ'), ('universities', 'NNS'), (',', ','), ('bring', 'VBG'), ('high', 'JJ'), ('quality', 'NN'), ('work', 'NN'), ('esteem', 'VBP'), ('India', 'NNP'), ('done', 'VBN'), ('us', 'PRP'), ('proud', 'JJ'), ('.', '.'), ('With', 'IN'), ('steady', 'JJ'), ('steps', 'NNS'), (',', ','), ('continue', 'VBP'), ('march', 'RB'), ('forward', 'RB'), ('.', '.'), ('We', 'PRP'), ('look', 'VBP'), ('forward', 'RB'), ('meeting', 'VBG'), ('VIT', 'NNP'), ('.', '.')]\n"
     ]
    }
   ],
   "source": [
    "# Part of Speech tagging is used in text processing to avoid confusion between two same words that have different meanings. \n",
    "# With respect to the definition and context, we give each word a particular tag and process them. \n",
    "# Two Steps are used here:\n",
    "\n",
    "# Tokenize text (word_tokenize).\n",
    "# Apply the pos_tag from NLTK to the above step.\n",
    "\n",
    "# removing stop words from wordList.\n",
    "stop_words = set(stopwords.words('english'))\n",
    "\n",
    "\n",
    "# Using a Tagger. Which is part-of-speech\n",
    "# tagger or POS-tagger.\n",
    "wordsList = [w for w in wordsList if not w in stop_words]\n",
    "tagged = nltk.pos_tag(wordsList)\n",
    "print(tagged)"
   ]
  },
  {
   "cell_type": "code",
   "execution_count": null,
   "id": "80e24f6c",
   "metadata": {},
   "outputs": [],
   "source": []
  },
  {
   "cell_type": "code",
   "execution_count": null,
   "id": "94402f21",
   "metadata": {},
   "outputs": [],
   "source": []
  }
 ],
 "metadata": {
  "kernelspec": {
   "display_name": "Python 3",
   "language": "python",
   "name": "python3"
  },
  "language_info": {
   "codemirror_mode": {
    "name": "ipython",
    "version": 3
   },
   "file_extension": ".py",
   "mimetype": "text/x-python",
   "name": "python",
   "nbconvert_exporter": "python",
   "pygments_lexer": "ipython3",
   "version": "3.8.8"
  }
 },
 "nbformat": 4,
 "nbformat_minor": 5
}
